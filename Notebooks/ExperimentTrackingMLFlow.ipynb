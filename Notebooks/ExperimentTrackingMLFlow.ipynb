{
 "cells": [
  {
   "cell_type": "markdown",
   "id": "df43525d-e930-46b6-9eb2-8c62bc357064",
   "metadata": {},
   "source": [
    "# Experiment Tracking using MLFlow\n",
    "\n",
    "For a local server, in the terminal type \"mlflow ui\". Leave the terminal running\n",
    "Will confirm the URL to connect to within a browser window\n",
    "\n",
    "http://127.0.0.1:5000"
   ]
  },
  {
   "cell_type": "code",
   "execution_count": 3,
   "id": "12112934-48c2-4bac-ae4f-5dab664ffb5a",
   "metadata": {},
   "outputs": [],
   "source": [
    "import mlflow\n",
    "import mlflow.sklearn"
   ]
  },
  {
   "cell_type": "markdown",
   "id": "c064559c-9e6d-4665-a25e-9b9eab741ca2",
   "metadata": {},
   "source": [
    "## Data prep"
   ]
  },
  {
   "cell_type": "code",
   "execution_count": 4,
   "id": "12610218-54b9-4ed7-8250-889878ac5250",
   "metadata": {},
   "outputs": [],
   "source": [
    "import numpy as np\n",
    "import pandas as pd\n",
    "raw_data = pd.read_csv('data\\\\bank_transactions_data_2.csv')\n",
    "numeric_cols = ['TransactionAmount', 'CustomerAge', 'TransactionDuration', 'LoginAttempts', 'AccountBalance']\n",
    "from sklearn.cluster import KMeans\n",
    "from sklearn.preprocessing import StandardScaler\n",
    "scaler = StandardScaler()\n",
    "numeric_scaled = pd.DataFrame(scaler.fit_transform(raw_data[numeric_cols]), columns=numeric_cols)"
   ]
  },
  {
   "cell_type": "markdown",
   "id": "35209e24-a8ed-472b-bf96-826867d7e3c9",
   "metadata": {},
   "source": [
    "Set up the experiment and the tracking URL"
   ]
  },
  {
   "cell_type": "code",
   "execution_count": 5,
   "id": "d4e9f666-0b23-429f-a578-ea52714c9a07",
   "metadata": {},
   "outputs": [
    {
     "name": "stderr",
     "output_type": "stream",
     "text": [
      "2024/12/03 17:27:45 INFO mlflow.tracking.fluent: Experiment with name 'TransactionFraudClustering' does not exist. Creating a new experiment.\n"
     ]
    }
   ],
   "source": [
    "mlflow.set_experiment(\"TransactionFraudClustering\")\n",
    "mlflow.set_tracking_uri(\"http://127.0.0.1:5000\")"
   ]
  },
  {
   "cell_type": "code",
   "execution_count": 6,
   "id": "37f98b1b-d2ad-4cdb-872a-931e94381e1c",
   "metadata": {},
   "outputs": [],
   "source": [
    "from sklearn import metrics\n",
    "from sklearn.metrics import pairwise_distances"
   ]
  },
  {
   "cell_type": "code",
   "execution_count": 19,
   "id": "c2ba2111-fa43-4760-92ab-fff781110e21",
   "metadata": {},
   "outputs": [],
   "source": [
    "n_clusters = 8"
   ]
  },
  {
   "cell_type": "markdown",
   "id": "743dad86-dd14-4834-ad9d-2a9f21a68ba1",
   "metadata": {},
   "source": [
    "Start a run and log the appropriate hyper parameters and metrics for comparison"
   ]
  },
  {
   "cell_type": "code",
   "execution_count": 20,
   "id": "05151a44-0064-47f7-8517-5081007de276",
   "metadata": {},
   "outputs": [
    {
     "name": "stdout",
     "output_type": "stream",
     "text": [
      "🏃 View run unleashed-shrimp-307 at: http://127.0.0.1:5000/#/experiments/170621176408125343/runs/fbe10e418d2c41f18bd677e0355a5be2\n",
      "🧪 View experiment at: http://127.0.0.1:5000/#/experiments/170621176408125343\n"
     ]
    },
    {
     "name": "stderr",
     "output_type": "stream",
     "text": [
      "C:\\Users\\patri\\anaconda3\\envs\\lg311\\Lib\\site-packages\\sklearn\\cluster\\_kmeans.py:1429: UserWarning: KMeans is known to have a memory leak on Windows with MKL, when there are less chunks than available threads. You can avoid it by setting the environment variable OMP_NUM_THREADS=10.\n",
      "  warnings.warn(\n"
     ]
    }
   ],
   "source": [
    "with mlflow.start_run():\n",
    "    # Run and score the model\n",
    "    kmeans = KMeans(n_clusters=n_clusters, random_state=42)\n",
    "    kmeans_labels = kmeans.fit_predict(numeric_scaled)\n",
    "    raw_data['KMeans_Cluster'] = kmeans_labels\n",
    "    sil_score = metrics.silhouette_score(numeric_scaled, kmeans_labels, metric='euclidean')\n",
    "    calhar_score = metrics.calinski_harabasz_score(numeric_scaled, kmeans_labels)\n",
    "    # Now the MLFlow bit\n",
    "    mlflow.log_param(\"Num_Clusters\", n_clusters)\n",
    "    mlflow.log_metric(\"Silhouette_score\", sil_score)\n",
    "    mlflow.log_metric(\"Calinski_Harabasz_score\", calhar_score)"
   ]
  }
 ],
 "metadata": {
  "kernelspec": {
   "display_name": "Python 3 (ipykernel)",
   "language": "python",
   "name": "python3"
  },
  "language_info": {
   "codemirror_mode": {
    "name": "ipython",
    "version": 3
   },
   "file_extension": ".py",
   "mimetype": "text/x-python",
   "name": "python",
   "nbconvert_exporter": "python",
   "pygments_lexer": "ipython3",
   "version": "3.11.10"
  }
 },
 "nbformat": 4,
 "nbformat_minor": 5
}
