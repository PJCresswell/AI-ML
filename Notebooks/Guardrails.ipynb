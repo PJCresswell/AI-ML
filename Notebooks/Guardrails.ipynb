{
 "cells": [
  {
   "cell_type": "markdown",
   "id": "fd3df013-a555-4cfa-be14-82da5b8104be",
   "metadata": {},
   "source": [
    "# Putting guardrails around LLM input and LLM output"
   ]
  },
  {
   "cell_type": "markdown",
   "id": "ec5bb505-f37a-4d12-81e1-8bc13a400d16",
   "metadata": {},
   "source": [
    "Guardrails AI is a package which is integrated with LangChain : \"pip install guardrails-ai\"\n",
    "\n",
    "You need an account and an API key. You then need to install the validators that you want to use from the CLI"
   ]
  },
  {
   "cell_type": "markdown",
   "id": "df04cd40-774e-4a50-908c-c3f8e2d785f0",
   "metadata": {},
   "source": [
    "ToxicLanguage: Detects and optionally removes toxic or inappropriate language from the output.\n",
    "\n",
    "guardrails hub install hub://guardrails/toxic_language --quiet"
   ]
  },
  {
   "cell_type": "code",
   "execution_count": 8,
   "id": "f89d1f0e-2e2b-4752-9290-82fab45d80b8",
   "metadata": {},
   "outputs": [],
   "source": [
    "from guardrails import Guard\n",
    "from guardrails.hub import ToxicLanguage"
   ]
  },
  {
   "cell_type": "code",
   "execution_count": 9,
   "id": "43096b20-cef6-4cb4-beb3-654268913efa",
   "metadata": {},
   "outputs": [],
   "source": [
    "guard = Guard().use(ToxicLanguage, threshold=0.5, validation_method=\"sentence\", on_fail=\"exception\")"
   ]
  },
  {
   "cell_type": "code",
   "execution_count": 10,
   "id": "d01e274a-6417-47c4-aeb6-44b118c95a81",
   "metadata": {},
   "outputs": [
    {
     "name": "stdout",
     "output_type": "stream",
     "text": [
      "Validation failed for field with errors: The following sentences in your response were found to be toxic:\n",
      "\n",
      "- You are a stupid idiot who can't do anything right.\n"
     ]
    }
   ],
   "source": [
    "try:\n",
    "    # Test failing response\n",
    "    guard.validate(\n",
    "        \"Please look carefully. You are a stupid idiot who can't do anything right.\"\n",
    "    )\n",
    "except Exception as e:\n",
    "    print(e)"
   ]
  },
  {
   "cell_type": "markdown",
   "id": "83d376fa-5881-4e8d-a1ed-e98d96878bd9",
   "metadata": {},
   "source": [
    "Check for personal information\n",
    "\n",
    "guardrails hub install hub://guardrails/detect_pii"
   ]
  },
  {
   "cell_type": "code",
   "execution_count": 14,
   "id": "5febd1df-25d0-4387-a5c1-d9495dcd2ca4",
   "metadata": {},
   "outputs": [],
   "source": [
    "from guardrails import Guard\n",
    "from guardrails.hub import DetectPII"
   ]
  },
  {
   "cell_type": "code",
   "execution_count": 15,
   "id": "a4c2ec13-a8ad-4ebb-9de5-905ad339451a",
   "metadata": {},
   "outputs": [],
   "source": [
    "guard = Guard().use(DetectPII, [\"EMAIL_ADDRESS\", \"PHONE_NUMBER\"], \"exception\")"
   ]
  },
  {
   "cell_type": "code",
   "execution_count": 16,
   "id": "83e42797-a356-4a0d-85df-9332b8ac0154",
   "metadata": {},
   "outputs": [
    {
     "name": "stdout",
     "output_type": "stream",
     "text": [
      "Validation failed for field with errors: The following text in your response contains PII:\n",
      "If interested, apply at not_a_real_email@guardrailsai.com\n"
     ]
    }
   ],
   "source": [
    "try:\n",
    "    guard.validate(\n",
    "        \"If interested, apply at not_a_real_email@guardrailsai.com\"\n",
    "    )  # Validator fails\n",
    "except Exception as e:\n",
    "    print(e)"
   ]
  },
  {
   "cell_type": "markdown",
   "id": "ffb4efa7-95d8-4f8d-bc59-cac2680aa1b7",
   "metadata": {},
   "source": [
    "Now using to filter out specific words eg competitor names\n",
    "\n",
    "Example where integrated with a LLM on the OUTPUT"
   ]
  },
  {
   "cell_type": "code",
   "execution_count": 8,
   "id": "9b6df6e6-9e5d-4fd2-805b-628be5b995f0",
   "metadata": {},
   "outputs": [],
   "source": [
    "from langchain_openai import ChatOpenAI\n",
    "from langchain_core.output_parsers import StrOutputParser\n",
    "from langchain_core.prompts import ChatPromptTemplate\n",
    "\n",
    "model = ChatOpenAI(model='gpt-4o-mini')"
   ]
  },
  {
   "cell_type": "code",
   "execution_count": 18,
   "id": "0632e5e1-3e02-4c5c-958a-4aa38865775e",
   "metadata": {},
   "outputs": [],
   "source": [
    "from guardrails import Guard\n",
    "from guardrails.hub import CompetitorCheck\n",
    "competitors_list = [\"Delta Air Lines\", \"American Airlines\", \"United Airlines\"]\n",
    "guard = Guard().use(CompetitorCheck, competitors=competitors_list, on_fail=\"fix\")"
   ]
  },
  {
   "cell_type": "code",
   "execution_count": 19,
   "id": "d89c2514-37a5-41ee-85c1-bf3c2611e171",
   "metadata": {},
   "outputs": [],
   "source": [
    "prompt = ChatPromptTemplate.from_template(\"Answer this question {question}\")\n",
    "output_parser = StrOutputParser()\n",
    "chain = prompt | model | guard.to_runnable() | output_parser"
   ]
  },
  {
   "cell_type": "code",
   "execution_count": 20,
   "id": "743efaab-7491-4fa1-b5b7-ac86abb633ce",
   "metadata": {},
   "outputs": [
    {
     "name": "stderr",
     "output_type": "stream",
     "text": [
      "C:\\Users\\patri\\anaconda3\\envs\\lg311\\Lib\\site-packages\\guardrails\\validator_service\\__init__.py:85: UserWarning: Could not obtain an event loop. Falling back to synchronous validation.\n",
      "  warnings.warn(\n"
     ]
    },
    {
     "data": {
      "text/plain": [
       "\"As of my last update, the top five airlines for domestic travel in the U.S. are typically considered to be:\\n\\n1.**[COMPETITOR]**\\n2.**[COMPETITOR]**\\n3.**Southwest Airlines**\\n4.**[COMPETITOR]**\\n5.**Alaska Airlines**\\n\\nThese rankings can vary based on different metrics such as customer satisfaction, flight availability, on-time performance, and overall market share.It's always a good idea to check current rankings and customer reviews for the latest information.\""
      ]
     },
     "execution_count": 20,
     "metadata": {},
     "output_type": "execute_result"
    }
   ],
   "source": [
    "chain.invoke({\"question\": \"What are the top five airlines for domestic travel in the US?\"})"
   ]
  },
  {
   "cell_type": "markdown",
   "id": "5bdabd3a-ec22-44c3-a86f-d61708cfa6fb",
   "metadata": {},
   "source": [
    "CompetitorCheck: Identifies and optionally removes mentions of specified competitor names\n",
    "\n",
    "guardrails hub install hub://guardrails/competitor_check --quiet\n",
    "\n",
    "Example where integrated with a LLM on the INPUT"
   ]
  },
  {
   "cell_type": "code",
   "execution_count": 20,
   "id": "215fa5af-1576-4617-ad79-a787f18e64ec",
   "metadata": {},
   "outputs": [],
   "source": [
    "prompt = ChatPromptTemplate.from_template(\"Answer this question {question}\")\n",
    "output_parser = StrOutputParser()\n",
    "chain = prompt | guard.to_runnable() | model | output_parser"
   ]
  },
  {
   "cell_type": "code",
   "execution_count": 23,
   "id": "b4b7f949-a1b1-45bd-9e48-09def50e8441",
   "metadata": {},
   "outputs": [
    {
     "name": "stderr",
     "output_type": "stream",
     "text": [
      "C:\\Users\\patri\\anaconda3\\envs\\lg311\\Lib\\site-packages\\guardrails\\validator_service\\__init__.py:85: UserWarning: Could not obtain an event loop. Falling back to synchronous validation.\n",
      "  warnings.warn(\n"
     ]
    },
    {
     "name": "stdout",
     "output_type": "stream",
     "text": [
      "Validation failed for field with errors: The following text in your response contains PII:\n",
      "messages=[HumanMessage(content='Answer this question Who owns not_a_real_email@guardrailsai.com?', additional_kwargs={}, response_metadata={})]\n"
     ]
    }
   ],
   "source": [
    "try:\n",
    "    chain.invoke({\"question\": \"Who owns not_a_real_email@guardrailsai.com?\"})\n",
    "except Exception as e:\n",
    "    print(e)"
   ]
  },
  {
   "cell_type": "code",
   "execution_count": null,
   "id": "7b41a9a5-b0de-45e1-b081-7b3bbed28cea",
   "metadata": {},
   "outputs": [],
   "source": []
  }
 ],
 "metadata": {
  "kernelspec": {
   "display_name": "Python 3 (ipykernel)",
   "language": "python",
   "name": "python3"
  },
  "language_info": {
   "codemirror_mode": {
    "name": "ipython",
    "version": 3
   },
   "file_extension": ".py",
   "mimetype": "text/x-python",
   "name": "python",
   "nbconvert_exporter": "python",
   "pygments_lexer": "ipython3",
   "version": "3.11.10"
  }
 },
 "nbformat": 4,
 "nbformat_minor": 5
}
