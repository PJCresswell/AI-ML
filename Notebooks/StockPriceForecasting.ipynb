{
 "cells": [
  {
   "cell_type": "markdown",
   "id": "5c04d82f-c779-4749-b2b7-059eeafe8aad",
   "metadata": {},
   "source": [
    "# Machine Learning Forecasting example notebook\n",
    "\n",
    "Uses market data to predict stock price movement"
   ]
  },
  {
   "cell_type": "code",
   "execution_count": 1,
   "id": "51f3cb66-45e3-427e-b272-145638944344",
   "metadata": {},
   "outputs": [],
   "source": [
    "import numpy as np\n",
    "import pandas as pd\n",
    "import yfinance as yf"
   ]
  },
  {
   "cell_type": "code",
   "execution_count": 2,
   "id": "2fd453ed-fa1f-4e70-9d64-cceb1e8550c8",
   "metadata": {},
   "outputs": [],
   "source": [
    "api_object = yf.Ticker('BAC')\n",
    "raw = api_object.history(period='10y')\n",
    "market_data = pd.DataFrame(raw['Close'])"
   ]
  },
  {
   "cell_type": "code",
   "execution_count": 3,
   "id": "fe4baa85-7cc9-4795-92da-c023ad33252f",
   "metadata": {},
   "outputs": [],
   "source": [
    "lags = 3\n",
    "cols = []\n",
    "for lag in range(1, lags + 1):\n",
    "    col = 'lag_{}'.format(lag)\n",
    "    market_data[col] = market_data['Close'].shift(lag)\n",
    "    cols.append(col)\n",
    "market_data.dropna(inplace=True)"
   ]
  },
  {
   "cell_type": "code",
   "execution_count": 4,
   "id": "f776c39c-04a8-4337-876d-c018ee0a27a8",
   "metadata": {},
   "outputs": [
    {
     "data": {
      "text/html": [
       "<div>\n",
       "<style scoped>\n",
       "    .dataframe tbody tr th:only-of-type {\n",
       "        vertical-align: middle;\n",
       "    }\n",
       "\n",
       "    .dataframe tbody tr th {\n",
       "        vertical-align: top;\n",
       "    }\n",
       "\n",
       "    .dataframe thead th {\n",
       "        text-align: right;\n",
       "    }\n",
       "</style>\n",
       "<table border=\"1\" class=\"dataframe\">\n",
       "  <thead>\n",
       "    <tr style=\"text-align: right;\">\n",
       "      <th></th>\n",
       "      <th>Close</th>\n",
       "      <th>lag_1</th>\n",
       "      <th>lag_2</th>\n",
       "      <th>lag_3</th>\n",
       "    </tr>\n",
       "    <tr>\n",
       "      <th>Date</th>\n",
       "      <th></th>\n",
       "      <th></th>\n",
       "      <th></th>\n",
       "      <th></th>\n",
       "    </tr>\n",
       "  </thead>\n",
       "  <tbody>\n",
       "    <tr>\n",
       "      <th>2014-12-08 00:00:00-05:00</th>\n",
       "      <td>14.417520</td>\n",
       "      <td>14.433845</td>\n",
       "      <td>14.050140</td>\n",
       "      <td>14.115452</td>\n",
       "    </tr>\n",
       "    <tr>\n",
       "      <th>2014-12-09 00:00:00-05:00</th>\n",
       "      <td>14.335875</td>\n",
       "      <td>14.417520</td>\n",
       "      <td>14.433845</td>\n",
       "      <td>14.050140</td>\n",
       "    </tr>\n",
       "    <tr>\n",
       "      <th>2014-12-10 00:00:00-05:00</th>\n",
       "      <td>14.188929</td>\n",
       "      <td>14.335875</td>\n",
       "      <td>14.417520</td>\n",
       "      <td>14.433845</td>\n",
       "    </tr>\n",
       "    <tr>\n",
       "      <th>2014-12-11 00:00:00-05:00</th>\n",
       "      <td>14.262403</td>\n",
       "      <td>14.188929</td>\n",
       "      <td>14.335875</td>\n",
       "      <td>14.417520</td>\n",
       "    </tr>\n",
       "    <tr>\n",
       "      <th>2014-12-12 00:00:00-05:00</th>\n",
       "      <td>13.984829</td>\n",
       "      <td>14.262403</td>\n",
       "      <td>14.188929</td>\n",
       "      <td>14.335875</td>\n",
       "    </tr>\n",
       "  </tbody>\n",
       "</table>\n",
       "</div>"
      ],
      "text/plain": [
       "                               Close      lag_1      lag_2      lag_3\n",
       "Date                                                                 \n",
       "2014-12-08 00:00:00-05:00  14.417520  14.433845  14.050140  14.115452\n",
       "2014-12-09 00:00:00-05:00  14.335875  14.417520  14.433845  14.050140\n",
       "2014-12-10 00:00:00-05:00  14.188929  14.335875  14.417520  14.433845\n",
       "2014-12-11 00:00:00-05:00  14.262403  14.188929  14.335875  14.417520\n",
       "2014-12-12 00:00:00-05:00  13.984829  14.262403  14.188929  14.335875"
      ]
     },
     "execution_count": 4,
     "metadata": {},
     "output_type": "execute_result"
    }
   ],
   "source": [
    "market_data.head()"
   ]
  },
  {
   "cell_type": "code",
   "execution_count": 5,
   "id": "8f8c2399-d2fc-46cb-9f0d-52dbb5c28283",
   "metadata": {},
   "outputs": [],
   "source": [
    "train_size = int(len(market_data) * 0.7)\n",
    "train, test = market_data[1:train_size], market_data[train_size:]"
   ]
  },
  {
   "cell_type": "code",
   "execution_count": 6,
   "id": "17f6c4ed-fce0-440a-858a-f00fe05d2ddf",
   "metadata": {},
   "outputs": [],
   "source": [
    "X_train, y_train = train.iloc[:, 1:], train.iloc[:, 0]\n",
    "X_test, y_test = test.iloc[:, 1:], test.iloc[:, 0]"
   ]
  },
  {
   "cell_type": "code",
   "execution_count": 7,
   "id": "961beaad-5b4d-4e7c-b917-4c53f8f5e356",
   "metadata": {},
   "outputs": [],
   "source": [
    "def model_scoring(y_test, y_hat):\n",
    "    from sklearn.metrics import mean_squared_error\n",
    "    print('Mean square error : ' + str(mean_squared_error(y_test, y_hat)))\n",
    "    from sklearn.metrics import root_mean_squared_error\n",
    "    print('Root mean square error : ' + str(root_mean_squared_error(y_test, y_hat)))\n",
    "    from sklearn.metrics import r2_score\n",
    "    print('R2 score : ' + str(r2_score(y_test, y_hat)))"
   ]
  },
  {
   "cell_type": "code",
   "execution_count": 17,
   "id": "d642fe24-d184-4ea7-bd23-c38a01d95bfb",
   "metadata": {},
   "outputs": [
    {
     "name": "stdout",
     "output_type": "stream",
     "text": [
      "Mean square error : 0.7420248289287475\n",
      "Root mean square error : 0.8614086306328417\n",
      "R2 score : 0.9752920723619187\n"
     ]
    }
   ],
   "source": [
    "from xgboost import XGBRegressor\n",
    "xgb_model = XGBRegressor()\n",
    "xgb_model.fit(X_train, y_train)\n",
    "y_hat = xgb_model.predict(X_test)\n",
    "model_scoring(y_test, y_hat)"
   ]
  },
  {
   "cell_type": "code",
   "execution_count": 18,
   "id": "fb220fdc-43ca-4028-9c88-695110feef85",
   "metadata": {},
   "outputs": [
    {
     "name": "stdout",
     "output_type": "stream",
     "text": [
      "Mean square error : 0.37938063214127443\n",
      "Root mean square error : 0.6159388217520263\n",
      "R2 score : 0.9873673914392207\n"
     ]
    }
   ],
   "source": [
    "from sklearn.neural_network import MLPRegressor\n",
    "dnn_model = MLPRegressor(max_iter=1000)\n",
    "dnn_model.fit(X_train, y_train)\n",
    "y_hat = dnn_model.predict(X_test)\n",
    "model_scoring(y_test, y_hat)"
   ]
  },
  {
   "cell_type": "code",
   "execution_count": 8,
   "id": "4e214cca-96b1-46a8-8cae-97424357c372",
   "metadata": {},
   "outputs": [
    {
     "name": "stdout",
     "output_type": "stream",
     "text": [
      "Mean square error : 1.1075986778414124\n",
      "Root mean square error : 1.052425141205498\n",
      "R2 score : 0.9631192030768951\n"
     ]
    }
   ],
   "source": [
    "from sklearn import svm\n",
    "svr_model = svm.SVR()\n",
    "svr_model.fit(X_train, y_train)\n",
    "y_hat = svr_model.predict(X_test)\n",
    "model_scoring(y_test, y_hat)"
   ]
  },
  {
   "cell_type": "code",
   "execution_count": null,
   "id": "20e7f9cf-ee4b-4d54-95d5-15af60119ff3",
   "metadata": {},
   "outputs": [],
   "source": []
  }
 ],
 "metadata": {
  "kernelspec": {
   "display_name": "Python 3 (ipykernel)",
   "language": "python",
   "name": "python3"
  },
  "language_info": {
   "codemirror_mode": {
    "name": "ipython",
    "version": 3
   },
   "file_extension": ".py",
   "mimetype": "text/x-python",
   "name": "python",
   "nbconvert_exporter": "python",
   "pygments_lexer": "ipython3",
   "version": "3.11.10"
  }
 },
 "nbformat": 4,
 "nbformat_minor": 5
}
